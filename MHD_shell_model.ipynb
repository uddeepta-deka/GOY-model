{
 "cells": [
  {
   "cell_type": "code",
   "execution_count": 1,
   "metadata": {},
   "outputs": [],
   "source": [
    "import numpy as np\n",
    "import matplotlib.pyplot as plt\n",
    "import time"
   ]
  },
  {
   "cell_type": "markdown",
   "metadata": {},
   "source": [
    "### MHD Shell model equations without the ionic term and without forcing"
   ]
  },
  {
   "cell_type": "code",
   "execution_count": 2,
   "metadata": {},
   "outputs": [],
   "source": [
    "def f(Y, t, y_n, n):\n",
    "    '''\n",
    "    This function returns the time derivative of y_n according to the shell model system of eqn\n",
    "    \n",
    "    Y: complex vector representing u_n and b_n at a given time t\n",
    "    y_n: element of Y vector - could be u_n or b_n\n",
    "    n: shell number\n",
    "    '''\n",
    "    \n",
    "    X = Y[:]\n",
    "    X[n] = y_n\n",
    "    \n",
    "    if n in range(N):\n",
    "        #taking care of the boundary terms\n",
    "        if n==0:\n",
    "            phi_u = k[0]*(X[1]*X[2]-X[N+1]*X[N+2])     \n",
    "        elif n==1:\n",
    "            phi_u = k[1]*(X[2]*X[3]-X[N+2]*X[N+3])-0.5*k[0]*(X[0]*X[2]-X[N]*X[N+2])\n",
    "        elif n==N-2:\n",
    "            phi_u = -0.5*k[n-1]*(X[n-1]*X[n+1]-X[N+n-1]*X[N+n+1])-0.5*k[n-2]*(X[n-2]*X[n-1]-X[N+n-2]*X[N+n-1])\n",
    "        elif n==N-1:\n",
    "            phi_u = -0.5*k[n-2]*(X[n-2]*X[n-1]-X[N+n-2]*X[N+n-1]) \n",
    "        else:\n",
    "            phi_u = k[n]*(X[n+1]*X[n+2]-X[N+n+1]*X[N+n+2])-0.5*k[n-1]*(X[n-1]*X[n+1]-X[N+n-1]*X[N+n+1])-0.5*k[n-2]*(X[n-2]*X[n-1]-X[N+n-2]*X[N+n-1])\n",
    "        \n",
    "        yn_dot = -nu*k[n]*k[n]*X[n] - nu2*(k[n]**4)*X[n] + 1j*phi_u.conjugate()\n",
    "        \n",
    "    if n in range(N,2*N):\n",
    "        #taking care of the boundary terms\n",
    "        if n==N:\n",
    "            phi_b = (1./6.)*k[0]*(X[1]*X[N+2]-X[N+1]*X[2])   \n",
    "        elif n==N+1:\n",
    "            phi_b = (1./6.)*k[1]*(X[2]*X[N+3]-X[N+2]*X[3])+(1./3.)*k[0]*(X[0]*X[N+2]-X[N]*X[2])\n",
    "        elif n==2*N-2:\n",
    "            phi_b = (1./3.)*k[n-1-N]*(X[n-1-N]*X[n+1]-X[n-1]*X[n+1-N])-(2./3.)*k[n-2-N]*(X[n-2-N]*X[n-1]-X[n-2]*X[n-1-N])\n",
    "        elif n==2*N-1:\n",
    "            phi_b = -(2./3.)*k[n-2-N]*(X[n-2-N]*X[n-1]-X[n-2]*X[n-1-N])    \n",
    "        else:\n",
    "            phi_b = (1./6.)*k[n-N]*(X[n+1-N]*X[n+2]-X[n+1]*X[n+2-N])+(1./3.)*k[n-1-N]*(X[n-1-N]*X[n+1]-X[n-1]*X[n+1-N])-(2./3.)*k[n-2-N]*(X[n-2-N]*X[n-1]-X[n-2]*X[n-1-N])\n",
    "       \n",
    "        yn_dot = -eta*k[n-N]*k[n-N]*X[n] - eta2*(k[n-N]**4)*X[n] + 1j*phi_b.conjugate()\n",
    "\n",
    "    return yn_dot\n"
   ]
  },
  {
   "cell_type": "markdown",
   "metadata": {},
   "source": [
    "### Runge-Kutta-4 method"
   ]
  },
  {
   "cell_type": "code",
   "execution_count": 3,
   "metadata": {},
   "outputs": [],
   "source": [
    "def RK4(t0,tn,n,y0):\n",
    "    '''\n",
    "    This function returns the configuration at each time slice according to RK4\n",
    "    \n",
    "    t0: initial time\n",
    "    tn: final time\n",
    "    n : number of time slices\n",
    "    y0: initial configuration vector\n",
    "    '''\n",
    "    h = abs(tn-t0)/n\n",
    "    t = np.linspace(t0,tn,n+1)\n",
    "    \n",
    "    y = np.zeros([n+1,len(y0)],dtype=complex) #y[i][j] gives config at time slice i and shell j\n",
    "    y[0] = y0\n",
    "    \n",
    "    for i in range(0,n): #i denotes the time slice  \n",
    "        for j in range(len(y0)):   #j denotes the shell\n",
    "            K1 = f(y[i],t[i],y[i][j],j)\n",
    "            K2 = f(y[i],t[i]+h/2,y[i][j]+K1*h/2,j)\n",
    "            K3 = f(y[i],t[i]+h/2,y[i][j]+K2*h/2,j)\n",
    "            K4 = f(y[i],t[i]+h,y[i][j]+K3*h,j)\n",
    "            y[i+1][j] = y[i][j] + h*(K1 + 2*K2 + 2*K3 + K4)/6.\n",
    "    return y"
   ]
  },
  {
   "cell_type": "markdown",
   "metadata": {},
   "source": [
    "### Adams-Bashforth 3/Moulton 4 Step Predictor/Corrector"
   ]
  },
  {
   "cell_type": "code",
   "execution_count": 4,
   "metadata": {},
   "outputs": [],
   "source": [
    "def AdBash3_PreCorr(t0,tn,n,y0):\n",
    "    '''\n",
    "    This function returns the configuration at each time slice according to AB3/corrector\n",
    "    \n",
    "    t0: initial time\n",
    "    tn: final time\n",
    "    n : number of time slices\n",
    "    y0: initial configuration vector\n",
    "    '''\n",
    "    h = abs(tn-t0)/n\n",
    "    t = np.linspace(t0,tn,n+1)\n",
    "    y = np.zeros([n+1,len(y0)],dtype=complex)\n",
    "    #Calculate initial steps with RK4\n",
    "    y[0:3] = RK4(t0,t0+2*h,2,y0)\n",
    "    K0,K1,K2,K3 = (np.zeros(len(y0)) for i in range(4))\n",
    "    for j in range(len(y0)):\n",
    "        K1[j] = f(y[1],t[1],y[1][j],j)\n",
    "        K2[j] = f(y[0],t[0],y[0][j],j)\n",
    "    for i in range(2,n):\n",
    "        for j in range(len(y0)):\n",
    "            K3[j] = K2[j]\n",
    "            K2[j] = K1[j]\n",
    "            K1[j] = f(y[i],t[i],y[i][j],j)\n",
    "            #Adams-Bashforth Predictor\n",
    "            y[i+1][j] = y[i][j] + h*(23*K1[j]-16*K2[j]+5*K3[j])/12\n",
    "            K0[j] = f(y[i+1],t[i+1],y[i+1][j],j)\n",
    "            #Adams-Moulton Corrector\n",
    "            y[i+1][j] = y[i][j] + h*(9*K0[j]+19*K1[j]-5*K2[j]+K3[j])/24\n",
    "    return y"
   ]
  },
  {
   "cell_type": "markdown",
   "metadata": {},
   "source": [
    "### Driver code"
   ]
  },
  {
   "cell_type": "code",
   "execution_count": 5,
   "metadata": {},
   "outputs": [
    {
     "name": "stderr",
     "output_type": "stream",
     "text": [
      "/home/uddeepta/anaconda3/lib/python3.7/site-packages/ipykernel_launcher.py:17: ComplexWarning: Casting complex values to real discards the imaginary part\n",
      "/home/uddeepta/anaconda3/lib/python3.7/site-packages/ipykernel_launcher.py:18: ComplexWarning: Casting complex values to real discards the imaginary part\n",
      "/home/uddeepta/anaconda3/lib/python3.7/site-packages/ipykernel_launcher.py:23: ComplexWarning: Casting complex values to real discards the imaginary part\n",
      "/home/uddeepta/anaconda3/lib/python3.7/site-packages/ipykernel_launcher.py:26: ComplexWarning: Casting complex values to real discards the imaginary part\n"
     ]
    },
    {
     "name": "stdout",
     "output_type": "stream",
     "text": [
      "Time taken =  0.5115132331848145\n"
     ]
    }
   ],
   "source": [
    "start_time = time.time()\n",
    "Nr = 1 #number of realizations\n",
    "N = 22 #number of shells\n",
    "\n",
    "nu = 10**(-8) #kinematic viscosity\n",
    "eta = 10**(-8) #magnetic diffusivity\n",
    "nu2 = 5.*10**(-13) #hyperviscosity\n",
    "eta2 = 5.*10**(-13) #magnetic hyperdiffusivity\n",
    "k0 = 1./16.\n",
    "u0 = 0.5\n",
    "b0 = 0.05\n",
    "\n",
    "n = 300 #number of time slices\n",
    "t0 = 0 #initial time\n",
    "tn = 30 #final time\n",
    "t = np.linspace(t0,tn,n+1)\n",
    "\n",
    "#initializing k vector\n",
    "k=[]\n",
    "for i in range(1,N+1):\n",
    "    k.append(k0*(2**i))\n",
    "\n",
    "uf,bf = [],[]\n",
    "for _ in range(Nr):\n",
    "    #initialization of the vectors u,b\n",
    "    ui,bi = [],[]\n",
    "    phi_u = np.random.uniform(-np.pi,np.pi,N)\n",
    "    phi_b = np.random.uniform(-np.pi,np.pi,N)\n",
    "    for i in range(N):\n",
    "        kn = k[i]\n",
    "        un = u0*kn**(-1./3.)*np.exp(-kn*kn+1j*phi_u[i])\n",
    "        bn = b0*kn**(-1./3.)*np.exp(-kn*kn+1j*phi_b[i])\n",
    "        ui.append(un)\n",
    "        bi.append(bn)\n",
    "    #initial configuration\n",
    "    y0 = ui+bi\n",
    "    #Solving the N differential equations using Adams-Bashforth\n",
    "    ysol = AdBash3_PreCorr(t0,tn,n,y0)\n",
    "    un, bn = [],[] #every element of un,bn stores the absolute values of a configuration at a given time\n",
    "    for i in range(len(ysol)):\n",
    "        un.append(np.abs(ysol[i][:N]))\n",
    "        bn.append(np.abs(ysol[i][N:]))\n",
    "    #every element of uf,bf is a realization\n",
    "    uf.append(un)\n",
    "    bf.append(bn)\n",
    "end_time = time.time()\n",
    "print('Time taken = ', end_time-start_time)"
   ]
  },
  {
   "cell_type": "markdown",
   "metadata": {},
   "source": [
    "### Calculating the energy spectrum\n"
   ]
  },
  {
   "cell_type": "code",
   "execution_count": 6,
   "metadata": {},
   "outputs": [],
   "source": [
    "#every element i of u and b gives the configuration at ith time averaged over all realizations\n",
    "u = np.mean(uf,axis = 0)\n",
    "b = np.mean(bf,axis = 0)\n",
    "\n",
    "Enu = np.zeros([n+1,N]) #energy of each shell at given time\n",
    "Enb = np.zeros([n+1,N])\n",
    "\n",
    "Eu = np.zeros(n+1) #total energy at given time summed over all shells\n",
    "Eb = np.zeros(n+1)\n",
    "\n",
    "urms = [] #rms velocity\n",
    "tm = [] #Taylor microscale\n",
    "\n",
    "for i in range(n+1):\n",
    "    ur = 0.\n",
    "    tmfac = 0.\n",
    "\n",
    "    for j in range(N):\n",
    "        enu = 0.5*u[i][j]*u[i][j]/k[j]\n",
    "        enb = 0.5*b[i][j]*b[i][j]/k[j]\n",
    "        Enu[i][j] = enu\n",
    "        Enb[i][j] = enb\n",
    "        Eu[i]+=Enu[i][j]\n",
    "        Eb[i]+=Enb[i][j]\n",
    "        \n",
    "        ur+=u[i][j]*u[i][j]\n",
    "        tmfac+= enu*k[j]*k[j]\n",
    "                \n",
    "    urms.append(np.sqrt(ur))\n",
    "    tm.append(np.sqrt(Eu[i]/tmfac))"
   ]
  },
  {
   "cell_type": "code",
   "execution_count": null,
   "metadata": {},
   "outputs": [],
   "source": []
  },
  {
   "cell_type": "code",
   "execution_count": 9,
   "metadata": {},
   "outputs": [
    {
     "data": {
      "text/plain": [
       "[<matplotlib.lines.Line2D at 0x7f06d480ca50>]"
      ]
     },
     "execution_count": 9,
     "metadata": {},
     "output_type": "execute_result"
    },
    {
     "data": {
      "image/png": "[encoded data removed]",
      "text/plain": [
       "<Figure size 432x288 with 1 Axes>"
      ]
     },
     "metadata": {
      "needs_background": "light"
     },
     "output_type": "display_data"
    }
   ],
   "source": [
    "plt.loglog(t,Eu)"
   ]
  },
  {
   "cell_type": "code",
   "execution_count": 11,
   "metadata": {},
   "outputs": [
    {
     "data": {
      "text/plain": [
       "[<matplotlib.lines.Line2D at 0x7f06d45ecd10>]"
      ]
     },
     "execution_count": 11,
     "metadata": {},
     "output_type": "execute_result"
    },
    {
     "data": {
      "image/png": "[encoded data removed]",
      "text/plain": [
       "<Figure size 432x288 with 1 Axes>"
      ]
     },
     "metadata": {
      "needs_background": "light"
     },
     "output_type": "display_data"
    }
   ],
   "source": [
    "plt.loglog(k,Enu[-1])"
   ]
  },
  {
   "cell_type": "code",
   "execution_count": null,
   "metadata": {},
   "outputs": [],
   "source": []
  }
 ],
 "metadata": {
  "kernelspec": {
   "display_name": "Python 3",
   "language": "python",
   "name": "python3"
  },
  "language_info": {
   "codemirror_mode": {
    "name": "ipython",
    "version": 3
   },
   "file_extension": ".py",
   "mimetype": "text/x-python",
   "name": "python",
   "nbconvert_exporter": "python",
   "pygments_lexer": "ipython3",
   "version": "3.7.8"
  }
 },
 "nbformat": 4,
 "nbformat_minor": 4
}
